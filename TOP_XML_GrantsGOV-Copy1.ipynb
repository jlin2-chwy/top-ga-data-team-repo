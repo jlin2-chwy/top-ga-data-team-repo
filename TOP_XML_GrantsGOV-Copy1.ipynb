{
 "cells": [
  {
   "cell_type": "markdown",
   "id": "a2c79517-6031-4a27-8da8-930f019bc9f0",
   "metadata": {},
   "source": [
    "# Grants.gov XML extract Initial Push to MongoDB\n",
    " By. Angie Marchany-Rivera  \n",
    " August 8th, 2022"
   ]
  },
  {
   "cell_type": "code",
   "execution_count": 1,
   "id": "189165af-f994-401d-b7a4-1bcb98ed8acf",
   "metadata": {},
   "outputs": [
    {
     "name": "stdout",
     "output_type": "stream",
     "text": [
      "Collecting xmltodict\n",
      "  Downloading xmltodict-0.13.0-py2.py3-none-any.whl (10.0 kB)\n",
      "Installing collected packages: xmltodict\n",
      "Successfully installed xmltodict-0.13.0\n",
      "Note: you may need to restart the kernel to use updated packages.\n"
     ]
    }
   ],
   "source": [
    "pip install xmltodict"
   ]
  },
  {
   "cell_type": "code",
   "execution_count": 2,
   "id": "dbe04d8e-d5c6-4886-9d7e-7b4508a4ce7b",
   "metadata": {
    "tags": []
   },
   "outputs": [],
   "source": [
    "# https://openbase.com/python/xmltodict\n",
    "\n",
    "from io import BytesIO\n",
    "from zipfile import ZipFile\n",
    "from urllib.request import urlopen\n",
    "import xmltodict\n",
    "import os\n",
    "import sys\n",
    "import pandas as pd"
   ]
  },
  {
   "cell_type": "code",
   "execution_count": 3,
   "id": "4ab0365d-01ab-41d4-9e03-743a76e4ba41",
   "metadata": {},
   "outputs": [
    {
     "name": "stdout",
     "output_type": "stream",
     "text": [
      "3.9.12 (main, Apr  4 2022, 05:22:27) [MSC v.1916 64 bit (AMD64)]\n"
     ]
    }
   ],
   "source": [
    "print (sys.version)"
   ]
  },
  {
   "cell_type": "code",
   "execution_count": 45,
   "id": "3242c86d-c506-4860-8768-5eaae1527aa4",
   "metadata": {
    "tags": []
   },
   "outputs": [
    {
     "data": {
      "text/plain": [
       "'C:\\\\Users\\\\paulz\\\\OneDrive\\\\Desktop\\\\GA 2022 TOP Data'"
      ]
     },
     "execution_count": 45,
     "metadata": {},
     "output_type": "execute_result"
    }
   ],
   "source": [
    "os. getcwd() "
   ]
  },
  {
   "cell_type": "code",
   "execution_count": 43,
   "id": "d2fe6b58-4e74-46d7-8fa6-74ea0b20cef7",
   "metadata": {},
   "outputs": [
    {
     "name": "stdin",
     "output_type": "stream",
     "text": [
      "Input windows user name. paulz\n"
     ]
    }
   ],
   "source": [
    "#Change working directory to location of your choosing\n",
    "user = input(\"Input windows user name.\")"
   ]
  },
  {
   "cell_type": "code",
   "execution_count": 44,
   "id": "67e67cb4-206f-47dd-9a1f-7a4e948c43e8",
   "metadata": {},
   "outputs": [],
   "source": [
    "#Input default directory pathway to file location of your choosing\n",
    "os. chdir(f'C:\\\\Users\\\\{user}\\\\OneDrive\\\\Desktop\\\\GA 2022 TOP Data') "
   ]
  },
  {
   "cell_type": "code",
   "execution_count": 8,
   "id": "a82a330a-452e-404a-a39d-da8788619234",
   "metadata": {},
   "outputs": [],
   "source": [
    "# Direct link to XML extract --> https://www.grants.gov/extract/GrantsDBExtract20220808v2.zip\n",
    "# Grants.gov direct link is static, except for date.\n",
    "\n",
    "today = pd.Timestamp('today')\n",
    "link = \"https://www.grants.gov/extract/GrantsDBExtract{:%Y%m%d}v2.zip\".format(today)"
   ]
  },
  {
   "cell_type": "code",
   "execution_count": 9,
   "id": "965675af-2b9b-4db2-a2fe-68c7b8db2b1d",
   "metadata": {},
   "outputs": [],
   "source": [
    "# Extract most up-to-date XML from grants.gov zip file\n",
    "# VERY SLOW STEP\n",
    "\n",
    "url = urlopen(link)\n",
    "zipfile = ZipFile(BytesIO(url.read()))\n",
    "zipfile.extractall('temp')\n",
    "for filename in os.listdir('temp'):\n",
    "    with open(os.path.join('temp', filename), 'r') as f:\n",
    "        xml_data = f.read()"
   ]
  },
  {
   "cell_type": "code",
   "execution_count": 23,
   "id": "8f74e7fb-ef96-4090-a905-465f66d3c760",
   "metadata": {
    "tags": []
   },
   "outputs": [
    {
     "name": "stdout",
     "output_type": "stream",
     "text": [
      "Class of xml file: <class 'str'>\n"
     ]
    }
   ],
   "source": [
    "#To confirm data by class\n",
    "print(\"Class of xml data: \" + str(type(xml_data)))"
   ]
  },
  {
   "cell_type": "code",
   "execution_count": 11,
   "id": "af4c6cf6-e381-45c7-8623-3a03566dc137",
   "metadata": {},
   "outputs": [],
   "source": [
    "#To convert xml file to dictionary\n",
    "xml_dict = xmltodict.parse(xml_data)"
   ]
  },
  {
   "cell_type": "code",
   "execution_count": 24,
   "id": "a4f2489a-11c2-486d-b78f-88dcd65c1c33",
   "metadata": {},
   "outputs": [
    {
     "name": "stdout",
     "output_type": "stream",
     "text": [
      "Class of xml data: <class 'dict'>\n"
     ]
    }
   ],
   "source": [
    "#To confirm dictionary conversion from xml data\n",
    "print(\"Class of xml dictionary: \" + str(type(xml_dict)))"
   ]
  },
  {
   "cell_type": "code",
   "execution_count": 13,
   "id": "6a3026eb-aa0b-40b5-9514-6d3ddcef9984",
   "metadata": {
    "tags": []
   },
   "outputs": [],
   "source": [
    "#To only pull opportunity details into dictionary.\n",
    "data_list_dict = xml_dict['Grants']['OpportunitySynopsisDetail_1_0']"
   ]
  },
  {
   "cell_type": "code",
   "execution_count": 20,
   "id": "ba629135-18ef-4bae-9638-559382f1ec96",
   "metadata": {},
   "outputs": [
    {
     "name": "stdout",
     "output_type": "stream",
     "text": [
      "Length of xml dictionary: 68938\n"
     ]
    }
   ],
   "source": [
    "print(\"Length of grant list dictionary: \" + str(len(data_list_dict)))"
   ]
  },
  {
   "cell_type": "code",
   "execution_count": 22,
   "id": "8d00f30e-070b-4463-ad25-d12cfb8653c4",
   "metadata": {},
   "outputs": [
    {
     "name": "stdout",
     "output_type": "stream",
     "text": [
      "Type of xml dictionary: <class 'list'>\n"
     ]
    }
   ],
   "source": [
    "print(\"Class of grant list dictionary: \" + str(type(data_list_dict)))"
   ]
  },
  {
   "cell_type": "code",
   "execution_count": 25,
   "id": "a86cbb48-3d5d-49e5-8ac8-8936ba5e6e7f",
   "metadata": {},
   "outputs": [],
   "source": [
    "#To convert grant list dictionary to dataframe\n",
    "xml_df = pd.DataFrame(data_list_dict)"
   ]
  },
  {
   "cell_type": "code",
   "execution_count": 26,
   "id": "6364c8d4-ae59-4818-bd69-eddb672a94fe",
   "metadata": {
    "collapsed": true,
    "jupyter": {
     "outputs_hidden": true
    },
    "tags": []
   },
   "outputs": [
    {
     "data": {
      "text/html": [
       "<div>\n",
       "<style scoped>\n",
       "    .dataframe tbody tr th:only-of-type {\n",
       "        vertical-align: middle;\n",
       "    }\n",
       "\n",
       "    .dataframe tbody tr th {\n",
       "        vertical-align: top;\n",
       "    }\n",
       "\n",
       "    .dataframe thead th {\n",
       "        text-align: right;\n",
       "    }\n",
       "</style>\n",
       "<table border=\"1\" class=\"dataframe\">\n",
       "  <thead>\n",
       "    <tr style=\"text-align: right;\">\n",
       "      <th></th>\n",
       "      <th>OpportunityID</th>\n",
       "      <th>OpportunityTitle</th>\n",
       "      <th>OpportunityNumber</th>\n",
       "      <th>OpportunityCategory</th>\n",
       "      <th>FundingInstrumentType</th>\n",
       "      <th>CategoryOfFundingActivity</th>\n",
       "      <th>CategoryExplanation</th>\n",
       "      <th>CFDANumbers</th>\n",
       "      <th>EligibleApplicants</th>\n",
       "      <th>AdditionalInformationOnEligibility</th>\n",
       "      <th>...</th>\n",
       "      <th>Version</th>\n",
       "      <th>CostSharingOrMatchingRequirement</th>\n",
       "      <th>ArchiveDate</th>\n",
       "      <th>GrantorContactEmail</th>\n",
       "      <th>GrantorContactEmailDescription</th>\n",
       "      <th>GrantorContactText</th>\n",
       "      <th>AdditionalInformationURL</th>\n",
       "      <th>AdditionalInformationText</th>\n",
       "      <th>CloseDateExplanation</th>\n",
       "      <th>OpportunityCategoryExplanation</th>\n",
       "    </tr>\n",
       "  </thead>\n",
       "  <tbody>\n",
       "    <tr>\n",
       "      <th>0</th>\n",
       "      <td>262148</td>\n",
       "      <td>Establishment of the Edmund S. Muskie Graduate...</td>\n",
       "      <td>SCAPPD-14-AW-161-SCA-08152014</td>\n",
       "      <td>D</td>\n",
       "      <td>CA</td>\n",
       "      <td>O</td>\n",
       "      <td>Public Diplomacy</td>\n",
       "      <td>19.040</td>\n",
       "      <td>25</td>\n",
       "      <td>Eligibility for U.S. institutions is limited t...</td>\n",
       "      <td>...</td>\n",
       "      <td>Synopsis 2</td>\n",
       "      <td>No</td>\n",
       "      <td>10042014</td>\n",
       "      <td>DelageEM@state.gov</td>\n",
       "      <td>Inquiries</td>\n",
       "      <td>Ellen Delage, Bureau of South and Central Asia...</td>\n",
       "      <td>NaN</td>\n",
       "      <td>NaN</td>\n",
       "      <td>NaN</td>\n",
       "      <td>NaN</td>\n",
       "    </tr>\n",
       "    <tr>\n",
       "      <th>1</th>\n",
       "      <td>262149</td>\n",
       "      <td>Eradication of Yellow Crazy Ants on Johnston A...</td>\n",
       "      <td>F14AS00402</td>\n",
       "      <td>D</td>\n",
       "      <td>CA</td>\n",
       "      <td>[AG, ENV, NR]</td>\n",
       "      <td>NaN</td>\n",
       "      <td>15.608</td>\n",
       "      <td>99</td>\n",
       "      <td>The recipient has already been selected for th...</td>\n",
       "      <td>...</td>\n",
       "      <td>Synopsis 1</td>\n",
       "      <td>No</td>\n",
       "      <td>08232014</td>\n",
       "      <td>Connie_Sauer@fws.gov</td>\n",
       "      <td>Connie_Sauer@fws.gov</td>\n",
       "      <td>Connie Sauer, 503-490-0827&amp;lt;br/&amp;gt;Connie_Sa...</td>\n",
       "      <td>http://www.grants.gov/</td>\n",
       "      <td>http://www.grants.gov/</td>\n",
       "      <td>NaN</td>\n",
       "      <td>NaN</td>\n",
       "    </tr>\n",
       "    <tr>\n",
       "      <th>2</th>\n",
       "      <td>131073</td>\n",
       "      <td>Cooperative Ecosystem Studies Unit, Piedmont S...</td>\n",
       "      <td>G12AS20003</td>\n",
       "      <td>D</td>\n",
       "      <td>CA</td>\n",
       "      <td>ST</td>\n",
       "      <td>NaN</td>\n",
       "      <td>15.808</td>\n",
       "      <td>25</td>\n",
       "      <td>This financial assistance opportunity is being...</td>\n",
       "      <td>...</td>\n",
       "      <td>Synopsis 2</td>\n",
       "      <td>No</td>\n",
       "      <td>12172011</td>\n",
       "      <td>fgraves@usgs.gov</td>\n",
       "      <td>fgraves@usgs.gov</td>\n",
       "      <td>Faith Graves, 703-648-7356&amp;lt;br/&amp;gt;fgraves@u...</td>\n",
       "      <td>http://www.grants.gov/</td>\n",
       "      <td>http://www.grants.gov/</td>\n",
       "      <td>NaN</td>\n",
       "      <td>NaN</td>\n",
       "    </tr>\n",
       "    <tr>\n",
       "      <th>3</th>\n",
       "      <td>131094</td>\n",
       "      <td>Plant Feedstock Genomics for Bioenergy:  A Joi...</td>\n",
       "      <td>DE-FOA-0000598</td>\n",
       "      <td>D</td>\n",
       "      <td>G</td>\n",
       "      <td>ST</td>\n",
       "      <td>NaN</td>\n",
       "      <td>81.049</td>\n",
       "      <td>99</td>\n",
       "      <td>DOE Eligibility Criteria: Applicants from U.S....</td>\n",
       "      <td>...</td>\n",
       "      <td>Synopsis 1</td>\n",
       "      <td>No</td>\n",
       "      <td>05242012</td>\n",
       "      <td>kim.laing@science.doe.gov</td>\n",
       "      <td>kim.laing@science.doe.gov</td>\n",
       "      <td>Kimberlie J. Laing, Grant Analyst, 301-903-302...</td>\n",
       "      <td>https://www.fedconnect.net</td>\n",
       "      <td>FedConnect</td>\n",
       "      <td>NaN</td>\n",
       "      <td>NaN</td>\n",
       "    </tr>\n",
       "    <tr>\n",
       "      <th>4</th>\n",
       "      <td>131095</td>\n",
       "      <td>Management of HIV-Related Lung Disease and Car...</td>\n",
       "      <td>RFA-HL-12-034</td>\n",
       "      <td>D</td>\n",
       "      <td>G</td>\n",
       "      <td>HL</td>\n",
       "      <td>NaN</td>\n",
       "      <td>93.838</td>\n",
       "      <td>[00, 01, 02, 04, 05, 06, 07, 08, 11, 12, 13, 2...</td>\n",
       "      <td>Other Eligible Applicants include the followin...</td>\n",
       "      <td>...</td>\n",
       "      <td>Synopsis 1</td>\n",
       "      <td>No</td>\n",
       "      <td>04152012</td>\n",
       "      <td>FBOWebmaster@OD.NIH.GOV</td>\n",
       "      <td>If you have any problems linking to this fundi...</td>\n",
       "      <td>NIH OER Webmaster&amp;lt;br/&amp;gt;FBOWebmaster@OD.NI...</td>\n",
       "      <td>http://grants.nih.gov/grants/guide/rfa-files/R...</td>\n",
       "      <td>http://grants.nih.gov/grants/guide/rfa-files/R...</td>\n",
       "      <td>NaN</td>\n",
       "      <td>NaN</td>\n",
       "    </tr>\n",
       "  </tbody>\n",
       "</table>\n",
       "<p>5 rows × 30 columns</p>\n",
       "</div>"
      ],
      "text/plain": [
       "  OpportunityID                                   OpportunityTitle  \\\n",
       "0        262148  Establishment of the Edmund S. Muskie Graduate...   \n",
       "1        262149  Eradication of Yellow Crazy Ants on Johnston A...   \n",
       "2        131073  Cooperative Ecosystem Studies Unit, Piedmont S...   \n",
       "3        131094  Plant Feedstock Genomics for Bioenergy:  A Joi...   \n",
       "4        131095  Management of HIV-Related Lung Disease and Car...   \n",
       "\n",
       "               OpportunityNumber OpportunityCategory FundingInstrumentType  \\\n",
       "0  SCAPPD-14-AW-161-SCA-08152014                   D                    CA   \n",
       "1                     F14AS00402                   D                    CA   \n",
       "2                     G12AS20003                   D                    CA   \n",
       "3                 DE-FOA-0000598                   D                     G   \n",
       "4                  RFA-HL-12-034                   D                     G   \n",
       "\n",
       "  CategoryOfFundingActivity CategoryExplanation CFDANumbers  \\\n",
       "0                         O    Public Diplomacy      19.040   \n",
       "1             [AG, ENV, NR]                 NaN      15.608   \n",
       "2                        ST                 NaN      15.808   \n",
       "3                        ST                 NaN      81.049   \n",
       "4                        HL                 NaN      93.838   \n",
       "\n",
       "                                  EligibleApplicants  \\\n",
       "0                                                 25   \n",
       "1                                                 99   \n",
       "2                                                 25   \n",
       "3                                                 99   \n",
       "4  [00, 01, 02, 04, 05, 06, 07, 08, 11, 12, 13, 2...   \n",
       "\n",
       "                  AdditionalInformationOnEligibility  ...     Version  \\\n",
       "0  Eligibility for U.S. institutions is limited t...  ...  Synopsis 2   \n",
       "1  The recipient has already been selected for th...  ...  Synopsis 1   \n",
       "2  This financial assistance opportunity is being...  ...  Synopsis 2   \n",
       "3  DOE Eligibility Criteria: Applicants from U.S....  ...  Synopsis 1   \n",
       "4  Other Eligible Applicants include the followin...  ...  Synopsis 1   \n",
       "\n",
       "  CostSharingOrMatchingRequirement ArchiveDate        GrantorContactEmail  \\\n",
       "0                               No    10042014         DelageEM@state.gov   \n",
       "1                               No    08232014       Connie_Sauer@fws.gov   \n",
       "2                               No    12172011           fgraves@usgs.gov   \n",
       "3                               No    05242012  kim.laing@science.doe.gov   \n",
       "4                               No    04152012    FBOWebmaster@OD.NIH.GOV   \n",
       "\n",
       "                      GrantorContactEmailDescription  \\\n",
       "0                                          Inquiries   \n",
       "1                               Connie_Sauer@fws.gov   \n",
       "2                                   fgraves@usgs.gov   \n",
       "3                          kim.laing@science.doe.gov   \n",
       "4  If you have any problems linking to this fundi...   \n",
       "\n",
       "                                  GrantorContactText  \\\n",
       "0  Ellen Delage, Bureau of South and Central Asia...   \n",
       "1  Connie Sauer, 503-490-0827&lt;br/&gt;Connie_Sa...   \n",
       "2  Faith Graves, 703-648-7356&lt;br/&gt;fgraves@u...   \n",
       "3  Kimberlie J. Laing, Grant Analyst, 301-903-302...   \n",
       "4  NIH OER Webmaster&lt;br/&gt;FBOWebmaster@OD.NI...   \n",
       "\n",
       "                            AdditionalInformationURL  \\\n",
       "0                                                NaN   \n",
       "1                             http://www.grants.gov/   \n",
       "2                             http://www.grants.gov/   \n",
       "3                         https://www.fedconnect.net   \n",
       "4  http://grants.nih.gov/grants/guide/rfa-files/R...   \n",
       "\n",
       "                           AdditionalInformationText CloseDateExplanation  \\\n",
       "0                                                NaN                  NaN   \n",
       "1                             http://www.grants.gov/                  NaN   \n",
       "2                             http://www.grants.gov/                  NaN   \n",
       "3                                         FedConnect                  NaN   \n",
       "4  http://grants.nih.gov/grants/guide/rfa-files/R...                  NaN   \n",
       "\n",
       "  OpportunityCategoryExplanation  \n",
       "0                            NaN  \n",
       "1                            NaN  \n",
       "2                            NaN  \n",
       "3                            NaN  \n",
       "4                            NaN  \n",
       "\n",
       "[5 rows x 30 columns]"
      ]
     },
     "execution_count": 26,
     "metadata": {},
     "output_type": "execute_result"
    }
   ],
   "source": [
    "xml_df.head()"
   ]
  },
  {
   "cell_type": "code",
   "execution_count": 27,
   "id": "40808809-19cb-4b05-8f5f-cd79b6ab2129",
   "metadata": {
    "collapsed": true,
    "jupyter": {
     "outputs_hidden": true
    },
    "tags": []
   },
   "outputs": [
    {
     "name": "stdout",
     "output_type": "stream",
     "text": [
      "<class 'pandas.core.frame.DataFrame'>\n",
      "RangeIndex: 68938 entries, 0 to 68937\n",
      "Data columns (total 30 columns):\n",
      " #   Column                              Non-Null Count  Dtype \n",
      "---  ------                              --------------  ----- \n",
      " 0   OpportunityID                       68938 non-null  object\n",
      " 1   OpportunityTitle                    68938 non-null  object\n",
      " 2   OpportunityNumber                   68938 non-null  object\n",
      " 3   OpportunityCategory                 68937 non-null  object\n",
      " 4   FundingInstrumentType               68938 non-null  object\n",
      " 5   CategoryOfFundingActivity           68938 non-null  object\n",
      " 6   CategoryExplanation                 10108 non-null  object\n",
      " 7   CFDANumbers                         68137 non-null  object\n",
      " 8   EligibleApplicants                  68938 non-null  object\n",
      " 9   AdditionalInformationOnEligibility  47741 non-null  object\n",
      " 10  AgencyCode                          68895 non-null  object\n",
      " 11  AgencyName                          68894 non-null  object\n",
      " 12  PostDate                            68938 non-null  object\n",
      " 13  CloseDate                           65666 non-null  object\n",
      " 14  LastUpdatedDate                     68938 non-null  object\n",
      " 15  AwardCeiling                        56367 non-null  object\n",
      " 16  AwardFloor                          48902 non-null  object\n",
      " 17  EstimatedTotalProgramFunding        49438 non-null  object\n",
      " 18  ExpectedNumberOfAwards              49689 non-null  object\n",
      " 19  Description                         68935 non-null  object\n",
      " 20  Version                             68938 non-null  object\n",
      " 21  CostSharingOrMatchingRequirement    68938 non-null  object\n",
      " 22  ArchiveDate                         63790 non-null  object\n",
      " 23  GrantorContactEmail                 68285 non-null  object\n",
      " 24  GrantorContactEmailDescription      68022 non-null  object\n",
      " 25  GrantorContactText                  68938 non-null  object\n",
      " 26  AdditionalInformationURL            46364 non-null  object\n",
      " 27  AdditionalInformationText           46498 non-null  object\n",
      " 28  CloseDateExplanation                19883 non-null  object\n",
      " 29  OpportunityCategoryExplanation      4173 non-null   object\n",
      "dtypes: object(30)\n",
      "memory usage: 15.8+ MB\n"
     ]
    }
   ],
   "source": [
    "xml_df.info()"
   ]
  },
  {
   "cell_type": "code",
   "execution_count": 28,
   "id": "486ffb55-064b-4dc4-8c57-73339b9f6ed8",
   "metadata": {},
   "outputs": [],
   "source": [
    "# Update data types:\n",
    "\n",
    "xml_df['OpportunityID'] = pd.to_numeric(xml_df['OpportunityID'], errors='coerce')\n",
    "xml_df['AwardCeiling'] = pd.to_numeric(xml_df['AwardCeiling'], errors='coerce')\n",
    "xml_df['AwardFloor'] = pd.to_numeric(xml_df['AwardFloor'], errors='coerce')\n",
    "xml_df['EstimatedTotalProgramFunding'] = pd.to_numeric(xml_df['EstimatedTotalProgramFunding'], errors='coerce')\n",
    "xml_df['ExpectedNumberOfAwards'] = pd.to_numeric(xml_df['ExpectedNumberOfAwards'], errors='coerce')\n",
    "xml_df['PostDate'] = pd.to_datetime(xml_df['PostDate'], format='%m%d%Y', errors='ignore')\n",
    "xml_df['CloseDate'] = pd.to_datetime(xml_df['CloseDate'], format='%m%d%Y', errors='ignore')\n",
    "xml_df['LastUpdatedDate'] = pd.to_datetime(xml_df['LastUpdatedDate'], format='%m%d%Y', errors='ignore')\n"
   ]
  },
  {
   "cell_type": "code",
   "execution_count": 29,
   "id": "e02126e9-502a-43a2-9863-fc53d8acc5d1",
   "metadata": {},
   "outputs": [],
   "source": [
    "# Found errors on Archive Date - possible cause: human-entered\n",
    "\n",
    "xml_df.loc[xml_df['ArchiveDate']=='08157009','ArchiveDate'] = '08152009'\n",
    "xml_df.loc[xml_df['ArchiveDate']=='03023010','ArchiveDate'] = '03022010'"
   ]
  },
  {
   "cell_type": "code",
   "execution_count": 30,
   "id": "ed1c2685-89c1-47aa-9444-3138b9ab6065",
   "metadata": {},
   "outputs": [],
   "source": [
    "# Update data type for Archive Date after correcting typos:\n",
    "\n",
    "xml_df['ArchiveDate'] = pd.to_datetime(xml_df['ArchiveDate'], format='%m%d%Y')"
   ]
  },
  {
   "cell_type": "code",
   "execution_count": 31,
   "id": "d2774eed-9fb2-4a21-9e53-0d2f2e1d58b2",
   "metadata": {},
   "outputs": [],
   "source": [
    "# Erase pd.NaT on datetime columns since it is not accepted in MongoDB.\n",
    "import numpy as np\n",
    "xml_df['PostDate'].replace({pd.NaT: np.nan}, inplace = True)\n",
    "xml_df['CloseDate'].replace({pd.NaT: np.nan}, inplace = True)\n",
    "xml_df['LastUpdatedDate'].replace({pd.NaT: np.nan}, inplace = True)\n",
    "xml_df['ArchiveDate'].replace({pd.NaT: np.nan}, inplace = True)"
   ]
  },
  {
   "cell_type": "code",
   "execution_count": 32,
   "id": "a1f92253-3b6f-4e1a-98ec-9bc3957b92f2",
   "metadata": {},
   "outputs": [],
   "source": [
    "# Create CSV for exploratory analysis on Tableau Desktop\n",
    "\n",
    "xml_df[xml_df['ArchiveDate'].dt.year >= 2022].to_csv('grants_active.csv', index = False)"
   ]
  }
 ],
 "metadata": {
  "kernelspec": {
   "display_name": "Python 3 (ipykernel)",
   "language": "python",
   "name": "python3"
  },
  "language_info": {
   "codemirror_mode": {
    "name": "ipython",
    "version": 3
   },
   "file_extension": ".py",
   "mimetype": "text/x-python",
   "name": "python",
   "nbconvert_exporter": "python",
   "pygments_lexer": "ipython3",
   "version": "3.9.12"
  }
 },
 "nbformat": 4,
 "nbformat_minor": 5
}
